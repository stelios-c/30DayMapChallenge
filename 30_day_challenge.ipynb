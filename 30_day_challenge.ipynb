{
 "cells": [
  {
   "cell_type": "code",
   "execution_count": 21,
   "id": "8697aa9e-3b96-4aa2-a162-d979ab62e046",
   "metadata": {},
   "outputs": [],
   "source": [
    "import pandas as pd"
   ]
  },
  {
   "cell_type": "markdown",
   "id": "b5651ee3-dc37-4bdf-adf0-fcc1ce972d02",
   "metadata": {},
   "source": [
    "# Day 1: Points"
   ]
  },
  {
   "cell_type": "code",
   "execution_count": null,
   "id": "d1ad1458-b1b1-4964-b12f-7aa0571395cd",
   "metadata": {},
   "outputs": [],
   "source": [
    "pd."
   ]
  },
  {
   "cell_type": "code",
   "execution_count": 20,
   "id": "2a34f76d-38ec-49f4-bb3b-ba432913d1d4",
   "metadata": {},
   "outputs": [],
   "source": [
    "transmitters=pd.read_csv('challenge_data/TxParamsDAB.csv')"
   ]
  },
  {
   "cell_type": "code",
   "execution_count": 12,
   "id": "16937a43-ebd7-4c08-8109-719deacae5ff",
   "metadata": {},
   "outputs": [
    {
     "data": {
      "text/plain": [
       "'https://www.ofcom.org.uk/__data/assets/file/0018/91305/TxParamsDAB.csv'"
      ]
     },
     "execution_count": 12,
     "metadata": {},
     "output_type": "execute_result"
    }
   ],
   "source": [
    "transmitters.head()"
   ]
  },
  {
   "cell_type": "code",
   "execution_count": 17,
   "id": "cba44d19-48b5-4b19-871a-1f101faaa20c",
   "metadata": {},
   "outputs": [
    {
     "data": {
      "text/plain": [
       "'2.1.1'"
      ]
     },
     "execution_count": 17,
     "metadata": {},
     "output_type": "execute_result"
    }
   ],
   "source": [
    "pd.__version__"
   ]
  },
  {
   "cell_type": "code",
   "execution_count": null,
   "id": "08732de3-ff1a-4223-8d56-a57c03bc0609",
   "metadata": {},
   "outputs": [],
   "source": []
  }
 ],
 "metadata": {
  "kernelspec": {
   "display_name": "Python 3 (ipykernel)",
   "language": "python",
   "name": "python3"
  },
  "language_info": {
   "codemirror_mode": {
    "name": "ipython",
    "version": 3
   },
   "file_extension": ".py",
   "mimetype": "text/x-python",
   "name": "python",
   "nbconvert_exporter": "python",
   "pygments_lexer": "ipython3",
   "version": "3.10.8"
  }
 },
 "nbformat": 4,
 "nbformat_minor": 5
}
